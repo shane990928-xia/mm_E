{
 "cells": [
  {
   "cell_type": "code",
   "execution_count": 1,
   "metadata": {},
   "outputs": [],
   "source": [
    "import  os\n",
    "vid_dir = \"/Users/shane/Downloads/2.2024年中国研究生数学建模竞赛E题数据/2024年中国研究生数学建模竞赛E题数据/2024年中国研究生数学建模竞赛E题数据/高速公路交通流数据/32.31.250.103\"\n",
    "listdir = os.listdir(vid_dir)\n"
   ]
  },
  {
   "cell_type": "code",
   "execution_count": 2,
   "metadata": {},
   "outputs": [
    {
     "data": {
      "text/plain": [
       "['20240501_20240501140806_20240501152004_140807.mp4',\n",
       " '20240501_20240501125647_20240501140806_125649.mp4']"
      ]
     },
     "execution_count": 2,
     "metadata": {},
     "output_type": "execute_result"
    }
   ],
   "source": [
    "listdir"
   ]
  },
  {
   "cell_type": "code",
   "execution_count": 3,
   "metadata": {},
   "outputs": [],
   "source": [
    "def get_video_info(video_path):\n",
    "    import cv2\n",
    "    cap = cv2.VideoCapture(video_path)\n",
    "    if cap.isOpened():\n",
    "        # 获取视频总帧数\n",
    "        total_frames = int(cap.get(cv2.CAP_PROP_FRAME_COUNT))\n",
    "        # 获取视频帧率\n",
    "        fps = cap.get(cv2.CAP_PROP_FPS)\n",
    "        # 获取视频时长（秒）\n",
    "        duration = total_frames / fps\n",
    "\n",
    "        print(f\"视频总帧数: {total_frames}\")\n",
    "        print(f\"视频帧率: {fps}\")\n",
    "        print(f\"视频时长（秒）: {duration}\")\n",
    "\n",
    "        cap.release()\n",
    "        "
   ]
  },
  {
   "cell_type": "code",
   "execution_count": 5,
   "metadata": {},
   "outputs": [
    {
     "name": "stdout",
     "output_type": "stream",
     "text": [
      "视频总帧数: 10695\n",
      "视频帧率: 25.0\n",
      "视频时长（秒）: 427.8\n"
     ]
    }
   ],
   "source": [
    "get_video_info(os.path.join(vid_dir, listdir[1]))"
   ]
  }
 ],
 "metadata": {
  "kernelspec": {
   "display_name": "py38_torch",
   "language": "python",
   "name": "python3"
  },
  "language_info": {
   "codemirror_mode": {
    "name": "ipython",
    "version": 3
   },
   "file_extension": ".py",
   "mimetype": "text/x-python",
   "name": "python",
   "nbconvert_exporter": "python",
   "pygments_lexer": "ipython3",
   "version": "3.8.12"
  }
 },
 "nbformat": 4,
 "nbformat_minor": 2
}
